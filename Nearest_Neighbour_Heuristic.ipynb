{
 "cells": [
  {
   "cell_type": "code",
   "execution_count": 2,
   "id": "064fae05",
   "metadata": {},
   "outputs": [],
   "source": [
    "import math\n"
   ]
  },
  {
   "cell_type": "code",
   "execution_count": 3,
   "id": "418ca26f",
   "metadata": {},
   "outputs": [
    {
     "name": "stdout",
     "output_type": "stream",
     "text": [
      "4 10\n",
      "156 324 1 2 3 1 2 1 2\n",
      "45 68 1 2 1 3 2 6 2\n",
      "77 98 2 1 5 2 1 4 3\n",
      "400 780 1 4 1 6 3 2 5\n"
     ]
    },
    {
     "data": {
      "text/plain": [
       "([0, 2, 1, 3], 116.88666042605959)"
      ]
     },
     "execution_count": 3,
     "metadata": {},
     "output_type": "execute_result"
    }
   ],
   "source": [
    "\n",
    "def nearest_neighbor1(n, coordinates, v, time_spent_in_city):\n",
    "    # Calculate distance matrix\n",
    "    distance = [[0] * n for _ in range(n)]\n",
    "    for i in range(n):\n",
    "        for j in range(i+1, n):\n",
    "            x1, y1 = coordinates[i]\n",
    "            x2, y2 = coordinates[j]\n",
    "            d = math.sqrt((x1-x2)**2 + (y1-y2)**2) / v\n",
    "            distance[i][j] = d\n",
    "            distance[j][i] = d\n",
    "\n",
    "    # Initialize variables\n",
    "    current_city = 0\n",
    "    visited = [False] * n\n",
    "    visited[0] = True\n",
    "    route = [0]\n",
    "    total_time = time_spent_in_city[0][0]\n",
    "\n",
    "    # Find nearest unvisited city iteratively\n",
    "    for day in range(1, n):\n",
    "        min_distance = float('inf')\n",
    "        next_city = None\n",
    "        for j in range(n):\n",
    "            if not visited[j] and distance[current_city][j] < min_distance:\n",
    "                min_distance = distance[current_city][j]\n",
    "                next_city = j\n",
    "        route.append(next_city)\n",
    "        visited[next_city] = True\n",
    "        current_city = next_city\n",
    "        total_time += min_distance + time_spent_in_city[next_city][day % 7]\n",
    "\n",
    "    return route, total_time\n",
    "\n",
    "n, v = map(int, input().split())\n",
    "coordinates = []\n",
    "time_spent_in_city = []\n",
    "for _ in range(n):\n",
    "    data = list(map(int, input().split()))\n",
    "    x, y = data[:2]\n",
    "    t = data[2:]\n",
    "    coordinates.append((x,y))\n",
    "    time_spent_in_city.append(t)\n",
    "\n",
    "# Run nearest neighbor heuristic algorithm\n",
    "nearest_neighbor1(n, coordinates, v, time_spent_in_city)\n"
   ]
  },
  {
   "cell_type": "code",
   "execution_count": null,
   "id": "edf9dc3a",
   "metadata": {},
   "outputs": [],
   "source": [
    "\n"
   ]
  },
  {
   "cell_type": "code",
   "execution_count": null,
   "id": "16f93ff3",
   "metadata": {},
   "outputs": [],
   "source": []
  },
  {
   "cell_type": "code",
   "execution_count": null,
   "id": "45aa756b",
   "metadata": {},
   "outputs": [],
   "source": []
  }
 ],
 "metadata": {
  "kernelspec": {
   "display_name": "Python 3 (ipykernel)",
   "language": "python",
   "name": "python3"
  },
  "language_info": {
   "codemirror_mode": {
    "name": "ipython",
    "version": 3
   },
   "file_extension": ".py",
   "mimetype": "text/x-python",
   "name": "python",
   "nbconvert_exporter": "python",
   "pygments_lexer": "ipython3",
   "version": "3.9.12"
  }
 },
 "nbformat": 4,
 "nbformat_minor": 5
}
